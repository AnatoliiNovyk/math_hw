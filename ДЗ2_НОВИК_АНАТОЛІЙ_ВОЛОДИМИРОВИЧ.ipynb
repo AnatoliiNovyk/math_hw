{
  "nbformat": 4,
  "nbformat_minor": 0,
  "metadata": {
    "colab": {
      "provenance": [],
      "include_colab_link": true
    },
    "kernelspec": {
      "name": "python3",
      "display_name": "Python 3"
    },
    "language_info": {
      "name": "python"
    }
  },
  "cells": [
    {
      "cell_type": "markdown",
      "metadata": {
        "id": "view-in-github",
        "colab_type": "text"
      },
      "source": [
        "<a href=\"https://colab.research.google.com/github/AnatoliiNovyk/math_hw/blob/main/%D0%94%D0%972_%D0%9D%D0%9E%D0%92%D0%98%D0%9A_%D0%90%D0%9D%D0%90%D0%A2%D0%9E%D0%9B%D0%86%D0%99_%D0%92%D0%9E%D0%9B%D0%9E%D0%94%D0%98%D0%9C%D0%98%D0%A0%D0%9E%D0%92%D0%98%D0%A7.ipynb\" target=\"_parent\"><img src=\"https://colab.research.google.com/assets/colab-badge.svg\" alt=\"Open In Colab\"/></a>"
      ]
    },
    {
      "cell_type": "markdown",
      "source": [
        "# Завдання 1\n",
        "Виріши аналітично задачу з текстовою умовою\n",
        "\n",
        "Над проектом працювало 3 типи спеціалістів - дизайнери, розробники та тестувальники. Ми знаємо кількість годин на кожному етапі розробки та кількість грошей, які закладені на виконання кожного етапу в якості собівартості.\n",
        "Всю розробку менеджер розділив на 3 етапи: створення дизайну, розробка програмної частини, фінальне тестування.\n",
        "\n",
        "На першому етапі відпрацьовано 20 годин дизайнером та 3 години розробниками - на даному етапі до смети закладено 775 доларів.\n",
        "На другому етапі дизайнери відпрацювали 8 годин, розробники - 28, а тестувальники - 4. Даний етап було оцінено в 1012 доларів.\n",
        "На фінальному етапі дизайнери відпрацювали 4 години, розробники - 12, а тестувальники 32. Трудові ресурси на цьому етапі оцінені в 696 доларів.\n",
        "\n",
        "Знайди вартість години у кожного спеціаліста шляхом вирішення системи лінійних рівнянь, базуючись на даних по етапах розробки.\n",
        "\n",
        "*Рішення потрібно розписати*"
      ],
      "metadata": {
        "id": "AIw8Nl0sbsd0"
      }
    },
    {
      "cell_type": "markdown",
      "source": [
        "Розв'язок:\n",
        "\n",
        "$$\n",
        "\\overline x =\n",
        "\\left (\\begin{array}{cc}\n",
        "x - ? \\\\\n",
        "y - ? \\\\\n",
        "z - ?\n",
        "\\end{array}\\right)\n",
        "\\\\\n",
        "A =\n",
        "\\left (\\begin{array}{cc}\n",
        "? & ? & ? \\\\\n",
        "? & ? & ? \\\\\n",
        "? & ? & ?\n",
        "\\end{array}\\right)\n",
        "\\\\\n",
        "b =\n",
        "\\left (\\begin{array}{cc}\n",
        "? \\\\\n",
        "? \\\\\n",
        "?\n",
        "\\end{array}\\right)\n",
        "\\\\\n",
        "A \\overline x = b\n",
        "$$"
      ],
      "metadata": {
        "id": "lj_B2d51b2Ai"
      }
    },
    {
      "cell_type": "markdown",
      "source": [
        "### Я розпишу детальний хід аналітичного розв'язання задачі методом Крамера, де:\n",
        "\\\n",
        "**x** — *вартість години дизайнера*\n",
        "\n",
        "**y** — *вартість години розробника*\n",
        "\n",
        "**z** — вартість години тестувальника\n",
        "\n",
        "\\\n",
        "### Ось хід рішення:\n",
        "\\\n",
        "**Завдання:** *Знайти вартість години роботи дизайнера* __(x)__, *розробника* __(y)__ *та тестувальника* __(z)__ *на основі даних про години роботи та вартість трьох етапів проекту.*\n",
        "\n",
        "\\\n",
        "### Крок 1: Складання системи лінійних рівнянь.\n",
        "\\\n",
        "**На основі текстової умови задачі, складаємо три рівняння, де невідомими є вартості години $x, y, z$:**\n",
        "\n",
        "\\\n",
        "* **Етап 1:** _20 годин дизайнера + 3 години розробника + 0 годин тестувальника_ = __775 доларів.__\n",
        "\n",
        "    $20x + 3y + 0z = 775$\n",
        "\n",
        "* **Етап 2:** _8 годин дизайнера + 28 годин розробника + 4 години тестувальника_ = __1012 доларів.__\n",
        "  \n",
        "    $8x + 28y + 4z = 1012$\n",
        "\n",
        "* **Етап 3:** _4 години дизайнера + 12 годин розробника + 32 години тестувальника_ = __696 доларів.__\n",
        "    \n",
        "    $4x + 12y + 32z = 696$\n",
        "\n",
        "\\\n",
        "**Отримали систему лінійних рівнянь:**\n",
        "\n",
        "\\\n",
        "$$\\begin{cases}\n",
        "20x + 3y + 0z = 775 \\\\\n",
        "8x + 28y + 4z = 1012 \\\\\n",
        "4x + 12y + 32z = 696\n",
        "\\end{cases}$$\n",
        "\n",
        "\\\n",
        "### Крок 2: Запис системи у матричній формі та визначення матриці коефіцієнтів A та вектора вільних членів b.\n",
        "\\\n",
        "***Система рівнянь може бути записана у вигляді***\\\n",
        "\\\n",
        "$A\\overline{x}=b$, де:\\\n",
        "\\\n",
        "$\\overline{x} = \\begin{pmatrix} x \\\\ y \\\\ z \\end{pmatrix}$ — вектор невідомих.\\\n",
        "\\\n",
        "$A = \\begin{pmatrix} 20 & 3 & 0 \\\\ 8 & 28 & 4 \\\\ 4 & 12 & 32 \\end{pmatrix}$ — матриця коефіцієнтів.\\\n",
        "\\\n",
        "$b = \\begin{pmatrix} 775 \\\\ 1012 \\\\ 696 \\end{pmatrix}$ — вектор вільних членів.\n",
        "\n",
        "\\\n",
        "### Крок 3: Обчислення головного визначника системи ($\\Delta = |A|$).\n",
        "\\\n",
        "***Обчислимо визначник матриці $A$:***\\\n",
        "\\\n",
        "$\\Delta = \\begin{vmatrix} 20 & 3 & 0 \\\\ 8 & 28 & 4 \\\\ 4 & 12 & 32 \\end{vmatrix}$\\\n",
        "\\\n",
        "***Використаємо правило розкладання за першим рядком:***\\\n",
        "\\\n",
        "$\\Delta = 20 \\cdot \\begin{vmatrix} 28 & 4 \\\\ 12 & 32 \\end{vmatrix} - 3 \\cdot \\begin{vmatrix} 8 & 4 \\\\ 4 & 32 \\end{vmatrix} + 0\n",
        "\\cdot \\begin{vmatrix} 8 & 28 \\\\ 4 & 12 \\end{vmatrix}$\\\n",
        "\\\n",
        "$\\Delta = 20 \\cdot (28 \\cdot 32 - 4 \\cdot 12) - 3 \\cdot (8 \\cdot 32 - 4 \\cdot 4) + 0$\\\n",
        "\\\n",
        "$\\Delta = 20 \\cdot (896 - 48) - 3 \\cdot (256 - 16)$\\\n",
        "\\\n",
        "$\\Delta = 20 \\cdot (848) - 3 \\cdot (240)$\\\n",
        "\\\n",
        "$\\Delta = 16960 - 720$\\\n",
        "\\\n",
        "$\\Delta = 16240$\\\n",
        "\\\n",
        "**Оскільки $\\Delta = 16240 \\ne 0$, система має єдиний розв'язок.**\n",
        "\n",
        "\\\n",
        "### Крок 4: Обчислення допоміжних визначників ($\\Delta_x, \\Delta_y, \\Delta_z$).\n",
        "\n",
        "\\\n",
        "***Замінюємо відповідні стовпці матриці $A$ на вектор $b$ та обчислюємо\n",
        "визначники:***\n",
        "\n",
        "\\\n",
        "* **Визначник $\\Delta_x$** (замінено 1-й стовпець A на b):\n",
        "    \n",
        "$\\Delta_x = \\begin{vmatrix} 775 & 3 & 0 \\\\ 1012 & 28 & 4 \\\\ 696 & 12 & 32 \\end{vmatrix}$\\\n",
        "\\\n",
        "***Розкладемо за першим рядком:***\\\n",
        "\\\n",
        "$\\Delta_x = 775 \\cdot \\begin{vmatrix} 28 & 4 \\\\ 12 & 32 \\end{vmatrix} - 3 \\cdot \\begin{vmatrix} 1012 & 4 \\\\ 696 & 32 \\end{vmatrix} + 0$\\\n",
        "\\\n",
        "$\\Delta_x = 775 \\cdot (28 \\cdot 32 - 4 \\cdot 12) - 3 \\cdot (1012 \\cdot 32 - 4 \\cdot 696)$\\\n",
        "\\\n",
        "$\\Delta_x = 775 \\cdot (896 - 48) - 3 \\cdot (32384 - 2784)$\\\n",
        "\\\n",
        "$\\Delta_x = 775 \\cdot (848) - 3 \\cdot (29600)$\\\n",
        "\\\n",
        "$\\Delta_x = 657200 - 88800$\\\n",
        "\\\n",
        "$\\Delta_x = 568400$\n",
        "\n",
        "\\\n",
        "* **Визначник $\\Delta_y$** (замінено 2-й стовпець A на b):\n",
        "\n",
        "$\\Delta_y = \\begin{vmatrix} 20 & 775 & 0 \\\\ 8 & 1012 & 4 \\\\ 4 & 696 & 32 \\end{vmatrix}$\\\n",
        "\\\n",
        "***Розкладемо за першим рядком:***\\\n",
        "\\\n",
        "$\\Delta_y = 20 \\cdot \\begin{vmatrix} 1012 & 4 \\\\ 696 & 32 \\end{vmatrix} - 775 \\cdot \\begin{vmatrix} 8 & 4 \\\\ 4 & 32 \\end{vmatrix} + 0$\\\n",
        "\\\n",
        "$\\Delta_y = 20 \\cdot (1012 \\cdot 32 - 4 \\cdot 696) - 775 \\cdot (8 \\cdot 32 - 4 \\cdot 4)$\\\n",
        "\\\n",
        "$\\Delta_y = 20 \\cdot (32384 - 2784) - 775 \\cdot (256 - 16)$\\\n",
        "\\\n",
        "$\\Delta_y = 20 \\cdot (29600) - 775 \\cdot (240)$\\\n",
        "\\\n",
        "$\\Delta_y = 592000 - 186000$\\\n",
        "\\\n",
        "$\\Delta_y = 406000$\n",
        "\n",
        "\\\n",
        "* **Визначник $\\Delta_z$** (замінено 3-й стовпець A на b):\\\n",
        "\\\n",
        "$\\Delta_z = \\begin{vmatrix} 20 & 3 & 775 \\\\ 8 & 28 & 1012 \\\\ 4 & 12 & 696 \\end{vmatrix}$\n",
        "\n",
        "\\\n",
        "***Розкладемо за першим рядком:***\\\n",
        "\\\n",
        "$\\Delta_z = 20 \\cdot \\begin{vmatrix} 28 & 1012 \\\\ 12 & 696 \\end{vmatrix} - 3 \\cdot \\begin{vmatrix} 8 & 1012 \\\\ 4 & 696 \\end{vmatrix} + 775 \\cdot \\begin{vmatrix} 8 & 28 \\\\ 4 & 12 \\end{vmatrix}$\\\n",
        "\\\n",
        "$\\Delta_z = 20 \\cdot (28 \\cdot 696 - 1012 \\cdot 12) - 3 \\cdot (8 \\cdot 696 - 1012 \\cdot 4) + 775 \\cdot (8 \\cdot 12 - 28 \\cdot 4)$\\\n",
        "\\\n",
        "$\\Delta_z = 20 \\cdot (19488 - 12144) - 3 \\cdot (5568 - 4048) + 775 \\cdot (96 - 112)$\\\n",
        "\\\n",
        "$\\Delta_z = 20 \\cdot (7344) - 3 \\cdot (1520) + 775 \\cdot (-16)$\\\n",
        "\\\n",
        "$\\Delta_z = 146880 - 4560 - 12400$\\\n",
        "\\\n",
        "$\\Delta_z = 146880 - 16960$\\\n",
        "\\\n",
        "$\\Delta_z = 129920$\\\n",
        "\n",
        "\\\n",
        "### Крок 5: Обчислення значень невідомих за формулами Крамера.\n",
        "\n",
        "***За формулами Крамера:***\\\n",
        "\\\n",
        "$x = \\frac{\\Delta_x}{\\Delta}$\\\n",
        "\\\n",
        "$y = \\frac{\\Delta_y}{\\Delta}$\\\n",
        "\\\n",
        "$z = \\frac{\\Delta_z}{\\Delta}$\\\n",
        "\\\n",
        "***Підставляємо обчислені значення:***\\\n",
        "\\\n",
        "$x = \\frac{568400}{16240} = 35$\n",
        "\n",
        "\\\n",
        "$y = \\frac{406000}{16240} = 25$\n",
        "\n",
        "\\\n",
        "$z = \\frac{129920}{16240} = 8$\n",
        "\n",
        "\\\n",
        "#Відповідь:\n",
        "\n",
        "***Вартість години роботи:***\n",
        "* дизайнера __($x$)__ - __35 доларів,__\n",
        "\n",
        "* розробника __($y$)__ - __25 доларів,__\n",
        "\n",
        "* тестувальника __($z$)__ - __8 доларів.__"
      ],
      "metadata": {
        "id": "saNcILE3PO_K"
      }
    },
    {
      "cell_type": "markdown",
      "source": [
        "Перевірка: $x+y+z = 68$\n",
        "\n",
        "__35 + 25 + 8 = 68__"
      ],
      "metadata": {
        "id": "0V-eKvxDskeu"
      }
    },
    {
      "cell_type": "markdown",
      "source": [
        "# Завдання 2\n",
        "- Задай матрицю та вектор вільних членів для наступної системи:"
      ],
      "metadata": {
        "id": "bHTmMx9mDoWb"
      }
    },
    {
      "cell_type": "markdown",
      "source": [
        "![image.png](data:image/png;base64,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)\n"
      ],
      "metadata": {
        "id": "Hwb1-KHJAPmR"
      }
    },
    {
      "cell_type": "code",
      "source": [
        "import numpy as np\n",
        "A = np.array(\n",
        "    [[-1,  1,  2],\n",
        "     [ 0, -1, -3],\n",
        "     [ 4, -3,  2]]\n",
        ")\n",
        "B = np.array(\n",
        "            [1,\n",
        "            -4,\n",
        "            7]\n",
        ")\n",
        "print(\"Матриця A:\\n\", A)\n",
        "print(\"\\nВектор b:\", b)"
      ],
      "metadata": {
        "id": "T4BEZ2vXByqI",
        "colab": {
          "base_uri": "https://localhost:8080/"
        },
        "outputId": "13feac63-2f6e-4d38-885c-07997a8fdc1c"
      },
      "execution_count": null,
      "outputs": [
        {
          "output_type": "stream",
          "name": "stdout",
          "text": [
            "Матриця A:\n",
            " [[-1  1  2]\n",
            " [ 0 -1 -3]\n",
            " [ 4 -3  2]]\n",
            "\n",
            "Вектор b: [ 1 -4  7]\n"
          ]
        }
      ]
    },
    {
      "cell_type": "markdown",
      "source": [
        "\n",
        "- Напиши функцію для вирішення системи матричним методом *(solve не є матричним методом)*\n",
        "- Напиши функцію для вирішення системи методом Крамера"
      ],
      "metadata": {
        "id": "BgqgSUctDj_l"
      }
    },
    {
      "cell_type": "code",
      "execution_count": null,
      "metadata": {
        "id": "yJJLOyigUduv",
        "colab": {
          "base_uri": "https://localhost:8080/"
        },
        "outputId": "bb5ad0d8-c8ee-4d75-de0d-4eb165af3dc0"
      },
      "outputs": [
        {
          "output_type": "stream",
          "name": "stdout",
          "text": [
            "Обернена матриця A:\n",
            " [[-1.57142857 -1.14285714 -0.14285714]\n",
            " [-1.71428571 -1.42857143 -0.42857143]\n",
            " [ 0.57142857  0.14285714  0.14285714]]\n",
            "Розв'язання системи: [2. 1. 1.]\n"
          ]
        }
      ],
      "source": [
        "def solve_inv_matrix(a, b, verbose=False):\n",
        "    # Перевірка на оберненість матриці\n",
        "    det_A = np.linalg.det(a)\n",
        "    if det_A == 0:\n",
        "        raise ValueError(\"Матриця вироджена, оберненої матриці не існує.\")\n",
        "\n",
        "    # Розв'язання системи через обернену матрицю\n",
        "    a_inv = np.linalg.inv(a)\n",
        "    x = a_inv.dot(b)\n",
        "\n",
        "    if verbose:\n",
        "        print(\"Обернена матриця A:\\n\", a_inv)\n",
        "        print(\"Розв'язання системи:\", x)\n",
        "\n",
        "    return x\n",
        "\n",
        "# Виклик функції\n",
        "solution_inv = solve_inv_matrix(A, B, verbose=True)\n"
      ]
    },
    {
      "cell_type": "code",
      "execution_count": null,
      "metadata": {
        "outputId": "f29d1f31-8adc-4bfa-b0cd-22db27d69c65",
        "colab": {
          "base_uri": "https://localhost:8080/"
        },
        "id": "W1AFY-KhT2Ob"
      },
      "outputs": [
        {
          "output_type": "stream",
          "name": "stdout",
          "text": [
            "Обернена матриця A:\n",
            " [[-1.57142857 -1.14285714 -0.14285714]\n",
            " [-1.71428571 -1.42857143 -0.42857143]\n",
            " [ 0.57142857  0.14285714  0.14285714]]\n",
            "Розв'язання системи: [2. 1. 1.]\n",
            "Вектор рішення (матричний метод): [2. 1. 1.]\n"
          ]
        }
      ],
      "source": [
        "def solve_inv_matrix(a, b, verbose=False):\n",
        "    # Перевірка на оберненість матриці\n",
        "    det_A = np.linalg.det(a)\n",
        "    if det_A == 0:\n",
        "        raise ValueError(\"Матриця вироджена, оберненої матриці не існує.\")\n",
        "\n",
        "    # Розв'язання системи через обернену матрицю\n",
        "    a_inv = np.linalg.inv(a)\n",
        "    x = a_inv.dot(b)\n",
        "\n",
        "    if verbose:\n",
        "        print(\"Обернена матриця A:\\n\", a_inv)\n",
        "        print(\"Розв'язання системи:\", x)\n",
        "\n",
        "    return x\n",
        "\n",
        "# Виклик функції\n",
        "solution_inv = solve_inv_matrix(A, B, verbose=True)\n",
        "print(\"Вектор рішення (матричний метод):\", solution_inv)"
      ]
    },
    {
      "cell_type": "code",
      "source": [
        "def solve_cramer(a, b, verbose=False):\n",
        "    # Розмір матриці\n",
        "    n = len(b)\n",
        "\n",
        "    # Визначник матриці A\n",
        "    det_A = np.linalg.det(a)\n",
        "\n",
        "    if det_A == 0:\n",
        "        raise ValueError(\"Матриця вироджена, визначник дорівнює нулю.\")\n",
        "\n",
        "    # Розв'язок системи методом Крамера\n",
        "    x = np.zeros(n)\n",
        "    for i in range(n):\n",
        "        A_i = a.copy()\n",
        "        A_i[:, i] = b\n",
        "        x[i] = np.linalg.det(A_i) / det_A\n",
        "\n",
        "    if verbose:\n",
        "        print(\"Визначник матриці A:\", det_A)\n",
        "        print(\"Розв'язок системи:\", x)\n",
        "\n",
        "    return x\n",
        "\n",
        "# Виклик функції\n",
        "solution_cramer = solve_cramer(A, B, verbose=True)\n",
        "print(\"Вектор рішення (метод Крамера):\", solution_cramer)"
      ],
      "metadata": {
        "colab": {
          "base_uri": "https://localhost:8080/"
        },
        "id": "wr3aKQAuGtoA",
        "outputId": "c09f74c1-c1e0-4515-92e6-1c23b0fdc653"
      },
      "execution_count": null,
      "outputs": [
        {
          "output_type": "stream",
          "name": "stdout",
          "text": [
            "Визначник матриці A: 6.999999999999999\n",
            "Розв'язок системи: [2. 1. 1.]\n",
            "Вектор рішення (метод Крамера): [2. 1. 1.]\n"
          ]
        }
      ]
    }
  ]
}