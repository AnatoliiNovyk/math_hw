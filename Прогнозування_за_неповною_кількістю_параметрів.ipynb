{
  "nbformat": 4,
  "nbformat_minor": 0,
  "metadata": {
    "colab": {
      "provenance": [],
      "mount_file_id": "1Q46XqdoDH-LL5d1jRMNrcZfvjhDG5uos",
      "authorship_tag": "ABX9TyN4YSJZ++w4m5n6mTF9DxbT",
      "include_colab_link": true
    },
    "kernelspec": {
      "name": "python3",
      "display_name": "Python 3"
    },
    "language_info": {
      "name": "python"
    }
  },
  "cells": [
    {
      "cell_type": "markdown",
      "metadata": {
        "id": "view-in-github",
        "colab_type": "text"
      },
      "source": [
        "<a href=\"https://colab.research.google.com/github/AnatoliiNovyk/math_hw/blob/main/%D0%9F%D1%80%D0%BE%D0%B3%D0%BD%D0%BE%D0%B7%D1%83%D0%B2%D0%B0%D0%BD%D0%BD%D1%8F_%D0%B7%D0%B0_%D0%BD%D0%B5%D0%BF%D0%BE%D0%B2%D0%BD%D0%BE%D1%8E_%D0%BA%D1%96%D0%BB%D1%8C%D0%BA%D1%96%D1%81%D1%82%D1%8E_%D0%BF%D0%B0%D1%80%D0%B0%D0%BC%D0%B5%D1%82%D1%80%D1%96%D0%B2.ipynb\" target=\"_parent\"><img src=\"https://colab.research.google.com/assets/colab-badge.svg\" alt=\"Open In Colab\"/></a>"
      ]
    },
    {
      "cell_type": "markdown",
      "source": [
        "## 1. Завантаження та Опис Датасету"
      ],
      "metadata": {
        "id": "pxyyIHb51AA4"
      }
    },
    {
      "cell_type": "markdown",
      "source": [
        "**Спочатку завантажимо датасет \"weatherHistory.csv\" і виведемо його опис.**"
      ],
      "metadata": {
        "id": "M1fEF6Pu1LLk"
      }
    },
    {
      "cell_type": "code",
      "source": [
        "import pandas as pd\n",
        "from sklearn.tree import DecisionTreeRegressor\n",
        "from sklearn.model_selection import train_test_split\n",
        "from sklearn.metrics import mean_squared_error\n",
        "\n",
        "# Завантаження датасету\n",
        "data = pd.read_csv(\"/content/drive/MyDrive/GOIT/dataset/weatherHistory.csv\")\n",
        "\n",
        "# Опис датасету\n",
        "print(\"Опис датасету:\")\n",
        "print(data.describe())"
      ],
      "metadata": {
        "colab": {
          "base_uri": "https://localhost:8080/"
        },
        "id": "_l-W5jfb1FBZ",
        "outputId": "55bb3327-9cf0-4efd-f92c-74a3c0449421"
      },
      "execution_count": 2,
      "outputs": [
        {
          "output_type": "stream",
          "name": "stdout",
          "text": [
            "Опис датасету:\n",
            "       Temperature (C)  Apparent Temperature (C)      Humidity  \\\n",
            "count     96453.000000              96453.000000  96453.000000   \n",
            "mean         11.932678                 10.855029      0.734899   \n",
            "std           9.551546                 10.696847      0.195473   \n",
            "min         -21.822222                -27.716667      0.000000   \n",
            "25%           4.688889                  2.311111      0.600000   \n",
            "50%          12.000000                 12.000000      0.780000   \n",
            "75%          18.838889                 18.838889      0.890000   \n",
            "max          39.905556                 39.344444      1.000000   \n",
            "\n",
            "       Wind Speed (km/h)  Wind Bearing (degrees)  Visibility (km)  Loud Cover  \\\n",
            "count       96453.000000            96453.000000     96453.000000     96453.0   \n",
            "mean           10.810640              187.509232        10.347325         0.0   \n",
            "std             6.913571              107.383428         4.192123         0.0   \n",
            "min             0.000000                0.000000         0.000000         0.0   \n",
            "25%             5.828200              116.000000         8.339800         0.0   \n",
            "50%             9.965900              180.000000        10.046400         0.0   \n",
            "75%            14.135800              290.000000        14.812000         0.0   \n",
            "max            63.852600              359.000000        16.100000         0.0   \n",
            "\n",
            "       Pressure (millibars)  \n",
            "count          96453.000000  \n",
            "mean            1003.235956  \n",
            "std              116.969906  \n",
            "min                0.000000  \n",
            "25%             1011.900000  \n",
            "50%             1016.450000  \n",
            "75%             1021.090000  \n",
            "max             1046.380000  \n"
          ]
        }
      ]
    },
    {
      "cell_type": "markdown",
      "source": [
        "## 2. Статистичні Дані для Перших 100 Рядків"
      ],
      "metadata": {
        "id": "5HYqt6vi1wf6"
      }
    },
    {
      "cell_type": "markdown",
      "source": [
        "**Виведемо статистичні дані для перших 100 рядків датасету.**"
      ],
      "metadata": {
        "id": "F0Vzq8AP12da"
      }
    },
    {
      "cell_type": "code",
      "source": [
        "# Статистичні дані для перших 100 рядків\n",
        "print(\"\\nСтатистичні дані для перших 100 рядків:\")\n",
        "print(data.head(100).describe())"
      ],
      "metadata": {
        "colab": {
          "base_uri": "https://localhost:8080/"
        },
        "id": "WCVm-WVj15-j",
        "outputId": "b8abc642-4c24-46c5-f8ef-e63169cd2782"
      },
      "execution_count": 3,
      "outputs": [
        {
          "output_type": "stream",
          "name": "stdout",
          "text": [
            "\n",
            "Статистичні дані для перших 100 рядків:\n",
            "       Temperature (C)  Apparent Temperature (C)    Humidity  \\\n",
            "count       100.000000                100.000000  100.000000   \n",
            "mean         11.684833                 10.506667    0.742700   \n",
            "std           4.226536                  5.402200    0.158744   \n",
            "min           5.438889                  1.494444    0.360000   \n",
            "25%           8.194444                  5.526389    0.660000   \n",
            "50%          10.672222                 10.672222    0.765000   \n",
            "75%          15.040278                 15.040278    0.860000   \n",
            "max          21.183333                 21.183333    0.990000   \n",
            "\n",
            "       Wind Speed (km/h)  Wind Bearing (degrees)  Visibility (km)  Loud Cover  \\\n",
            "count         100.000000              100.000000       100.000000       100.0   \n",
            "mean           16.562553              215.780000        10.915639         0.0   \n",
            "std             7.623071               99.634948         3.468093         0.0   \n",
            "min             0.644000                0.000000         2.656500         0.0   \n",
            "25%            11.137175              152.000000         9.982000         0.0   \n",
            "50%            15.480150              190.000000        10.851400         0.0   \n",
            "75%            22.491700              311.000000        14.268625         0.0   \n",
            "max            32.167800              350.000000        15.874600         0.0   \n",
            "\n",
            "       Pressure (millibars)  \n",
            "count            100.000000  \n",
            "mean            1009.551000  \n",
            "std                4.985145  \n",
            "min             1003.570000  \n",
            "25%             1004.982500  \n",
            "50%             1007.365000  \n",
            "75%             1014.497500  \n",
            "max             1017.740000  \n"
          ]
        }
      ]
    },
    {
      "cell_type": "markdown",
      "source": [
        "## 3. Створення DataFrame з Числовими Даними"
      ],
      "metadata": {
        "id": "UPr24Lc31_LT"
      }
    },
    {
      "cell_type": "markdown",
      "source": [
        "**Створимо новий DataFrame, який міститиме лише числові параметри.**"
      ],
      "metadata": {
        "id": "dIna7oIX2Jwy"
      }
    },
    {
      "cell_type": "code",
      "source": [
        "# Вибір числових параметрів\n",
        "numeric_data = data.select_dtypes(include=['number'])\n",
        "\n",
        "# Виведення назв числових стовпців\n",
        "print(\"\\nНазви числових стовпців:\")\n",
        "print(numeric_data.columns)\n",
        "\n",
        "# Виведення DataFrame з числовими даними\n",
        "print(\"\\nDataFrame з числовими даними:\")\n",
        "print(numeric_data.head())"
      ],
      "metadata": {
        "colab": {
          "base_uri": "https://localhost:8080/"
        },
        "id": "xWz6JvcK2MLI",
        "outputId": "77151987-b0d7-4c41-ec86-58baff9d187a"
      },
      "execution_count": 4,
      "outputs": [
        {
          "output_type": "stream",
          "name": "stdout",
          "text": [
            "\n",
            "Назви числових стовпців:\n",
            "Index(['Temperature (C)', 'Apparent Temperature (C)', 'Humidity',\n",
            "       'Wind Speed (km/h)', 'Wind Bearing (degrees)', 'Visibility (km)',\n",
            "       'Loud Cover', 'Pressure (millibars)'],\n",
            "      dtype='object')\n",
            "\n",
            "DataFrame з числовими даними:\n",
            "   Temperature (C)  Apparent Temperature (C)  Humidity  Wind Speed (km/h)  \\\n",
            "0         9.472222                  7.388889      0.89            14.1197   \n",
            "1         9.355556                  7.227778      0.86            14.2646   \n",
            "2         9.377778                  9.377778      0.89             3.9284   \n",
            "3         8.288889                  5.944444      0.83            14.1036   \n",
            "4         8.755556                  6.977778      0.83            11.0446   \n",
            "\n",
            "   Wind Bearing (degrees)  Visibility (km)  Loud Cover  Pressure (millibars)  \n",
            "0                   251.0          15.8263         0.0               1015.13  \n",
            "1                   259.0          15.8263         0.0               1015.63  \n",
            "2                   204.0          14.9569         0.0               1015.94  \n",
            "3                   269.0          15.8263         0.0               1016.41  \n",
            "4                   259.0          15.8263         0.0               1016.51  \n"
          ]
        }
      ]
    },
    {
      "cell_type": "markdown",
      "source": [
        "## 4. Дослідження Датасету"
      ],
      "metadata": {
        "id": "4y8qWrDT2Qqi"
      }
    },
    {
      "cell_type": "markdown",
      "source": [
        "**Проведемо додатковий аналіз датасету, наприклад, виведемо інформацію про типи даних та наявність відсутніх значень.**"
      ],
      "metadata": {
        "id": "arGTwzrV2V18"
      }
    },
    {
      "cell_type": "code",
      "source": [
        "# Інформація про типи даних та відсутні значення\n",
        "print(\"\\nІнформація про датасет:\")\n",
        "data.info()\n",
        "\n",
        "# Перевірка наявність відсутніх значень\n",
        "print(\"\\nПеревірка наявність відсутніх значень:\")\n",
        "print(data.isnull().sum())"
      ],
      "metadata": {
        "colab": {
          "base_uri": "https://localhost:8080/"
        },
        "id": "JmCGY45D2bpt",
        "outputId": "0da4bb8f-828c-4aa4-b605-418d416e9dc4"
      },
      "execution_count": 5,
      "outputs": [
        {
          "output_type": "stream",
          "name": "stdout",
          "text": [
            "\n",
            "Інформація про датасет:\n",
            "<class 'pandas.core.frame.DataFrame'>\n",
            "RangeIndex: 96453 entries, 0 to 96452\n",
            "Data columns (total 12 columns):\n",
            " #   Column                    Non-Null Count  Dtype  \n",
            "---  ------                    --------------  -----  \n",
            " 0   Formatted Date            96453 non-null  object \n",
            " 1   Summary                   96453 non-null  object \n",
            " 2   Precip Type               95936 non-null  object \n",
            " 3   Temperature (C)           96453 non-null  float64\n",
            " 4   Apparent Temperature (C)  96453 non-null  float64\n",
            " 5   Humidity                  96453 non-null  float64\n",
            " 6   Wind Speed (km/h)         96453 non-null  float64\n",
            " 7   Wind Bearing (degrees)    96453 non-null  float64\n",
            " 8   Visibility (km)           96453 non-null  float64\n",
            " 9   Loud Cover                96453 non-null  float64\n",
            " 10  Pressure (millibars)      96453 non-null  float64\n",
            " 11  Daily Summary             96453 non-null  object \n",
            "dtypes: float64(8), object(4)\n",
            "memory usage: 8.8+ MB\n",
            "\n",
            "Перевірка наявність відсутніх значень:\n",
            "Formatted Date                0\n",
            "Summary                       0\n",
            "Precip Type                 517\n",
            "Temperature (C)               0\n",
            "Apparent Temperature (C)      0\n",
            "Humidity                      0\n",
            "Wind Speed (km/h)             0\n",
            "Wind Bearing (degrees)        0\n",
            "Visibility (km)               0\n",
            "Loud Cover                    0\n",
            "Pressure (millibars)          0\n",
            "Daily Summary                 0\n",
            "dtype: int64\n"
          ]
        }
      ]
    },
    {
      "cell_type": "markdown",
      "source": [
        "## 5. Побудова Моделі Decision Tree Regressor"
      ],
      "metadata": {
        "id": "1Oj8-cdx2fQF"
      }
    },
    {
      "cell_type": "markdown",
      "source": [
        "**Навчімо модель Decision Tree Regressor для передбачення \"Apparent Temperature (C)\".**"
      ],
      "metadata": {
        "id": "vDnbpkPB2ll7"
      }
    },
    {
      "cell_type": "code",
      "source": [
        "# Вибір ознак та цільової змінної\n",
        "features = ['Temperature (C)', 'Humidity', 'Wind Speed (km/h)', 'Wind Bearing (degrees)', 'Visibility (km)', 'Pressure (millibars)']\n",
        "target = 'Apparent Temperature (C)'\n",
        "\n",
        "# Видалення рядків з відсутніми значеннями\n",
        "data = data.dropna(subset=features + [target])\n",
        "\n",
        "# Розділення на тренувальний та тестовий набори\n",
        "X_train, X_test, y_train, y_test = train_test_split(data[features], data[target], test_size=0.2, random_state=42)\n",
        "\n",
        "# Ініціалізація та навчання моделі\n",
        "model = DecisionTreeRegressor(random_state=42)\n",
        "model.fit(X_train, y_train)\n",
        "\n",
        "# Передбачення для перших 10 рядків тестового набору\n",
        "predictions = model.predict(X_test[features].head(10))\n",
        "\n",
        "print(\"\\nПередбачення для перших 10 рядків Apparent Temperature (C):\")\n",
        "print(predictions)"
      ],
      "metadata": {
        "colab": {
          "base_uri": "https://localhost:8080/"
        },
        "id": "l1LYpIqN2rKm",
        "outputId": "1f5cf6a5-89ba-43a4-c09a-b8a642e6ded2"
      },
      "execution_count": 6,
      "outputs": [
        {
          "output_type": "stream",
          "name": "stdout",
          "text": [
            "\n",
            "Передбачення для перших 10 рядків Apparent Temperature (C):\n",
            "[28.79444444  7.98888889 14.4        -2.70555556 -2.73888889 -0.22222222\n",
            " 26.11111111 16.01666667  8.97222222  8.37777778]\n"
          ]
        }
      ]
    }
  ]
}